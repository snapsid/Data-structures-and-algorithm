{
 "cells": [
  {
   "cell_type": "code",
   "execution_count": 31,
   "metadata": {},
   "outputs": [],
   "source": [
    "a=[1,3,6,9,33,55,78,86]"
   ]
  },
  {
   "cell_type": "code",
   "execution_count": 46,
   "metadata": {},
   "outputs": [],
   "source": [
    "def bs(db, value):\n",
    "    start = 0\n",
    "    end = len(db)-1\n",
    "    middle=int((start+end)/2)\n",
    "    \n",
    "    while(db[middle]!=value and start<=end):\n",
    "        if(db[middle]>value):\n",
    "            end=middle-1\n",
    "        else:\n",
    "            start=middle+1\n",
    "        middle=int((start+end)/2)\n",
    "        print('start ', start, 'middle ',middle,'end ',end)\n",
    "    \n",
    "    if(db[middle]==value):\n",
    "        print('found')\n",
    "    else:\n",
    "        print('not found')\n",
    "    print('start ', start, 'middle ',middle,'end ',end)\n",
    "    "
   ]
  },
  {
   "cell_type": "code",
   "execution_count": 47,
   "metadata": {},
   "outputs": [
    {
     "name": "stdout",
     "output_type": "stream",
     "text": [
      "start  4 middle  5 end  7\n",
      "start  6 middle  6 end  7\n",
      "start  7 middle  7 end  7\n",
      "start  8 middle  7 end  7\n",
      "not found\n",
      "start  8 middle  7 end  7\n"
     ]
    }
   ],
   "source": [
    "bs(a,111)"
   ]
  },
  {
   "cell_type": "code",
   "execution_count": null,
   "metadata": {},
   "outputs": [],
   "source": []
  }
 ],
 "metadata": {
  "kernelspec": {
   "display_name": "Python 3",
   "language": "python",
   "name": "python3"
  },
  "language_info": {
   "codemirror_mode": {
    "name": "ipython",
    "version": 3
   },
   "file_extension": ".py",
   "mimetype": "text/x-python",
   "name": "python",
   "nbconvert_exporter": "python",
   "pygments_lexer": "ipython3",
   "version": "3.8.5"
  }
 },
 "nbformat": 4,
 "nbformat_minor": 4
}
