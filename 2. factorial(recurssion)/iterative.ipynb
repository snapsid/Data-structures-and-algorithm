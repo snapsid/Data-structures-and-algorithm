{
 "cells": [
  {
   "cell_type": "code",
   "execution_count": 1,
   "metadata": {},
   "outputs": [],
   "source": [
    "#factorial\n",
    "\n",
    "def ab(x):\n",
    "    y=list(range(2,x+1))\n",
    "    j=1\n",
    "    for i in y:\n",
    "        j=j*i\n",
    "    return j"
   ]
  },
  {
   "cell_type": "code",
   "execution_count": 2,
   "metadata": {},
   "outputs": [
    {
     "data": {
      "text/plain": [
       "120"
      ]
     },
     "execution_count": 2,
     "metadata": {},
     "output_type": "execute_result"
    }
   ],
   "source": [
    "ab(5)"
   ]
  },
  {
   "cell_type": "code",
   "execution_count": 3,
   "metadata": {},
   "outputs": [
    {
     "data": {
      "text/plain": [
       "24"
      ]
     },
     "execution_count": 3,
     "metadata": {},
     "output_type": "execute_result"
    }
   ],
   "source": [
    "ab(4)"
   ]
  },
  {
   "cell_type": "code",
   "execution_count": 4,
   "metadata": {},
   "outputs": [
    {
     "data": {
      "text/plain": [
       "2"
      ]
     },
     "execution_count": 4,
     "metadata": {},
     "output_type": "execute_result"
    }
   ],
   "source": [
    "ab(2)"
   ]
  },
  {
   "cell_type": "code",
   "execution_count": 5,
   "metadata": {},
   "outputs": [
    {
     "data": {
      "text/plain": [
       "1"
      ]
     },
     "execution_count": 5,
     "metadata": {},
     "output_type": "execute_result"
    }
   ],
   "source": [
    "ab(1)"
   ]
  },
  {
   "cell_type": "code",
   "execution_count": 8,
   "metadata": {},
   "outputs": [],
   "source": [
    "import dis"
   ]
  },
  {
   "cell_type": "code",
   "execution_count": 9,
   "metadata": {},
   "outputs": [
    {
     "name": "stdout",
     "output_type": "stream",
     "text": [
      "  2           0 LOAD_GLOBAL              0 (list)\n",
      "              2 LOAD_GLOBAL              1 (range)\n",
      "              4 LOAD_CONST               1 (2)\n",
      "              6 LOAD_FAST                0 (x)\n",
      "              8 LOAD_CONST               2 (1)\n",
      "             10 BINARY_ADD\n",
      "             12 CALL_FUNCTION            2\n",
      "             14 CALL_FUNCTION            1\n",
      "             16 STORE_FAST               1 (y)\n",
      "\n",
      "  3          18 LOAD_CONST               2 (1)\n",
      "             20 STORE_FAST               2 (j)\n",
      "\n",
      "  4          22 LOAD_FAST                1 (y)\n",
      "             24 GET_ITER\n",
      "        >>   26 FOR_ITER                12 (to 40)\n",
      "             28 STORE_FAST               3 (i)\n",
      "\n",
      "  5          30 LOAD_FAST                2 (j)\n",
      "             32 LOAD_FAST                3 (i)\n",
      "             34 BINARY_MULTIPLY\n",
      "             36 STORE_FAST               2 (j)\n",
      "             38 JUMP_ABSOLUTE           26\n",
      "\n",
      "  6     >>   40 LOAD_FAST                2 (j)\n",
      "             42 RETURN_VALUE\n"
     ]
    }
   ],
   "source": [
    "dis.dis(ab)"
   ]
  },
  {
   "cell_type": "code",
   "execution_count": null,
   "metadata": {},
   "outputs": [],
   "source": []
  }
 ],
 "metadata": {
  "kernelspec": {
   "display_name": "Python 3",
   "language": "python",
   "name": "python3"
  },
  "language_info": {
   "codemirror_mode": {
    "name": "ipython",
    "version": 3
   },
   "file_extension": ".py",
   "mimetype": "text/x-python",
   "name": "python",
   "nbconvert_exporter": "python",
   "pygments_lexer": "ipython3",
   "version": "3.8.5"
  }
 },
 "nbformat": 4,
 "nbformat_minor": 4
}
