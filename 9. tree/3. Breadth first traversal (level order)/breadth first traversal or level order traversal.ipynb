{
 "cells": [
  {
   "cell_type": "code",
   "execution_count": 31,
   "metadata": {},
   "outputs": [],
   "source": [
    "class treeNode:\n",
    "    def __init__(self, data):\n",
    "        self.data=data\n",
    "        self.leftNode=None\n",
    "        self.rightNode=None"
   ]
  },
  {
   "cell_type": "code",
   "execution_count": 32,
   "metadata": {},
   "outputs": [],
   "source": [
    "n1=treeNode('N1')"
   ]
  },
  {
   "cell_type": "code",
   "execution_count": 33,
   "metadata": {},
   "outputs": [],
   "source": [
    "n2=treeNode('N2')\n",
    "n3=treeNode('N3')\n",
    "n4=treeNode('N4')\n",
    "n5=treeNode('N5')\n",
    "n6=treeNode('N6')\n",
    "n7=treeNode('N7')\n",
    "n8=treeNode('N8')\n",
    "n9=treeNode('N9')"
   ]
  },
  {
   "cell_type": "code",
   "execution_count": 34,
   "metadata": {},
   "outputs": [],
   "source": [
    "n1.leftNode=n2\n",
    "n1.rightNode=n3\n",
    "\n",
    "n2.leftNode=n4\n",
    "n2.rightNode=n5\n",
    "\n",
    "n4.leftNode=n8\n",
    "n4.rightNode=n9\n",
    "\n",
    "n3.leftNode=n6\n",
    "n3.rightNode=n7\n"
   ]
  },
  {
   "cell_type": "code",
   "execution_count": 41,
   "metadata": {},
   "outputs": [],
   "source": [
    "from collections import deque\n",
    "\n",
    "def level_order_traversal(rootNode):\n",
    "    if rootNode==None:\n",
    "        return \"root node is null\"\n",
    "    else:\n",
    "        q=deque()\n",
    "        q.append(rootNode)\n",
    "        \n",
    "        \n",
    "        while(len(q)!=0):\n",
    "            p=q.popleft()\n",
    "            print(p.data)\n",
    "            \n",
    "            if p.leftNode!=None:\n",
    "                q.append(p.leftNode)\n",
    "            if p.rightNode!=None:\n",
    "                q.append(p.rightNode)\n",
    "            \n",
    "        \n",
    "    "
   ]
  },
  {
   "cell_type": "code",
   "execution_count": 42,
   "metadata": {},
   "outputs": [
    {
     "name": "stdout",
     "output_type": "stream",
     "text": [
      "N1\n",
      "N2\n",
      "N3\n",
      "N4\n",
      "N5\n",
      "N6\n",
      "N7\n",
      "N8\n",
      "N9\n"
     ]
    }
   ],
   "source": [
    "level_order_traversal(n1)"
   ]
  },
  {
   "cell_type": "code",
   "execution_count": null,
   "metadata": {},
   "outputs": [],
   "source": []
  },
  {
   "cell_type": "code",
   "execution_count": null,
   "metadata": {},
   "outputs": [],
   "source": []
  }
 ],
 "metadata": {
  "kernelspec": {
   "display_name": "Python 3",
   "language": "python",
   "name": "python3"
  },
  "language_info": {
   "codemirror_mode": {
    "name": "ipython",
    "version": 3
   },
   "file_extension": ".py",
   "mimetype": "text/x-python",
   "name": "python",
   "nbconvert_exporter": "python",
   "pygments_lexer": "ipython3",
   "version": "3.8.5"
  }
 },
 "nbformat": 4,
 "nbformat_minor": 4
}
